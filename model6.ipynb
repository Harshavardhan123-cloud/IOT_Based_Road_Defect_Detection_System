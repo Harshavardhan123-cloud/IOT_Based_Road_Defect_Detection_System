{
 "cells": [
  {
   "cell_type": "code",
   "execution_count": 1,
   "metadata": {},
   "outputs": [],
   "source": [
    "import os\n",
    "import json\n",
    "import logging\n",
    "from tqdm import tqdm\n",
    "from ultralytics import YOLO  # YOLOv5/YOLOv8 integration\n",
    "from sklearn.model_selection import train_test_split"
   ]
  },
  {
   "cell_type": "code",
   "execution_count": 2,
   "metadata": {},
   "outputs": [
    {
     "name": "stdout",
     "output_type": "stream",
     "text": [
      "Ultralytics 8.3.73 🚀 Python-3.9.7 torch-2.6.0+cu124 CUDA:0 (NVIDIA GeForce RTX 4090, 24083MiB)\n",
      "\u001b[34m\u001b[1mengine/trainer: \u001b[0mtask=detect, mode=train, model=yolo11n.pt, data=/home/mt23mcs002/Downloads/Augmented_Images_Python/Dataset/data.yaml, epochs=30, time=None, patience=100, batch=16, imgsz=640, save=True, save_period=-1, cache=False, device=None, workers=8, project=road_defect_yolo, name=experiment3, exist_ok=True, pretrained=True, optimizer=Adam, verbose=True, seed=0, deterministic=True, single_cls=False, rect=False, cos_lr=False, close_mosaic=10, resume=False, amp=True, fraction=1.0, profile=False, freeze=None, multi_scale=False, overlap_mask=True, mask_ratio=4, dropout=0.0, val=True, split=val, save_json=False, save_hybrid=False, conf=None, iou=0.7, max_det=300, half=False, dnn=False, plots=True, source=None, vid_stride=1, stream_buffer=False, visualize=False, augment=False, agnostic_nms=False, classes=None, retina_masks=False, embed=None, show=False, save_frames=False, save_txt=False, save_conf=False, save_crop=False, show_labels=True, show_conf=True, show_boxes=True, line_width=None, format=torchscript, keras=False, optimize=False, int8=False, dynamic=False, simplify=True, opset=None, workspace=None, nms=False, lr0=0.001, lrf=0.2, momentum=0.937, weight_decay=0.0005, warmup_epochs=3.0, warmup_momentum=0.8, warmup_bias_lr=0.1, box=7.5, cls=0.5, dfl=1.5, pose=12.0, kobj=1.0, nbs=64, hsv_h=0.015, hsv_s=0.7, hsv_v=0.4, degrees=0.0, translate=0.1, scale=0.5, shear=0.0, perspective=0.0, flipud=0.0, fliplr=0.5, bgr=0.0, mosaic=1.0, mixup=0.2, copy_paste=0.0, copy_paste_mode=flip, auto_augment=randaugment, erasing=0.4, crop_fraction=1.0, cfg=None, tracker=botsort.yaml, save_dir=road_defect_yolo/experiment3\n",
      "Overriding model.yaml nc=80 with nc=6\n",
      "\n",
      "                   from  n    params  module                                       arguments                     \n",
      "  0                  -1  1       464  ultralytics.nn.modules.conv.Conv             [3, 16, 3, 2]                 \n",
      "  1                  -1  1      4672  ultralytics.nn.modules.conv.Conv             [16, 32, 3, 2]                \n",
      "  2                  -1  1      6640  ultralytics.nn.modules.block.C3k2            [32, 64, 1, False, 0.25]      \n",
      "  3                  -1  1     36992  ultralytics.nn.modules.conv.Conv             [64, 64, 3, 2]                \n",
      "  4                  -1  1     26080  ultralytics.nn.modules.block.C3k2            [64, 128, 1, False, 0.25]     \n",
      "  5                  -1  1    147712  ultralytics.nn.modules.conv.Conv             [128, 128, 3, 2]              \n",
      "  6                  -1  1     87040  ultralytics.nn.modules.block.C3k2            [128, 128, 1, True]           \n",
      "  7                  -1  1    295424  ultralytics.nn.modules.conv.Conv             [128, 256, 3, 2]              \n",
      "  8                  -1  1    346112  ultralytics.nn.modules.block.C3k2            [256, 256, 1, True]           \n",
      "  9                  -1  1    164608  ultralytics.nn.modules.block.SPPF            [256, 256, 5]                 \n",
      " 10                  -1  1    249728  ultralytics.nn.modules.block.C2PSA           [256, 256, 1]                 \n",
      " 11                  -1  1         0  torch.nn.modules.upsampling.Upsample         [None, 2, 'nearest']          \n",
      " 12             [-1, 6]  1         0  ultralytics.nn.modules.conv.Concat           [1]                           \n",
      " 13                  -1  1    111296  ultralytics.nn.modules.block.C3k2            [384, 128, 1, False]          \n",
      " 14                  -1  1         0  torch.nn.modules.upsampling.Upsample         [None, 2, 'nearest']          \n",
      " 15             [-1, 4]  1         0  ultralytics.nn.modules.conv.Concat           [1]                           \n",
      " 16                  -1  1     32096  ultralytics.nn.modules.block.C3k2            [256, 64, 1, False]           \n",
      " 17                  -1  1     36992  ultralytics.nn.modules.conv.Conv             [64, 64, 3, 2]                \n",
      " 18            [-1, 13]  1         0  ultralytics.nn.modules.conv.Concat           [1]                           \n",
      " 19                  -1  1     86720  ultralytics.nn.modules.block.C3k2            [192, 128, 1, False]          \n",
      " 20                  -1  1    147712  ultralytics.nn.modules.conv.Conv             [128, 128, 3, 2]              \n",
      " 21            [-1, 10]  1         0  ultralytics.nn.modules.conv.Concat           [1]                           \n",
      " 22                  -1  1    378880  ultralytics.nn.modules.block.C3k2            [384, 256, 1, True]           \n",
      " 23        [16, 19, 22]  1    431842  ultralytics.nn.modules.head.Detect           [6, [64, 128, 256]]           \n",
      "YOLO11n summary: 319 layers, 2,591,010 parameters, 2,590,994 gradients, 6.4 GFLOPs\n",
      "\n",
      "Transferred 448/499 items from pretrained weights\n",
      "Freezing layer 'model.23.dfl.conv.weight'\n",
      "\u001b[34m\u001b[1mAMP: \u001b[0mrunning Automatic Mixed Precision (AMP) checks...\n",
      "\u001b[34m\u001b[1mAMP: \u001b[0mchecks passed ✅\n"
     ]
    },
    {
     "name": "stderr",
     "output_type": "stream",
     "text": [
      "\u001b[34m\u001b[1mtrain: \u001b[0mScanning /home/mt23mcs002/Downloads/Augmented_Images_Python/Dataset/train/labels.cache... 33273 images, 0 backgrounds, 0 corrupt: 100%|██████████| 33273/33273 [00:00<?, ?it/s]\n",
      "\u001b[34m\u001b[1mval: \u001b[0mScanning /home/mt23mcs002/Downloads/Augmented_Images_Python/Dataset/valid/labels.cache... 7129 images, 0 backgrounds, 0 corrupt: 100%|██████████| 7129/7129 [00:00<?, ?it/s]\n"
     ]
    },
    {
     "name": "stdout",
     "output_type": "stream",
     "text": [
      "Plotting labels to road_defect_yolo/experiment3/labels.jpg... \n",
      "\u001b[34m\u001b[1moptimizer:\u001b[0m Adam(lr=0.001, momentum=0.937) with parameter groups 81 weight(decay=0.0), 88 weight(decay=0.0005), 87 bias(decay=0.0)\n",
      "Image sizes 640 train, 640 val\n",
      "Using 8 dataloader workers\n",
      "Logging results to \u001b[1mroad_defect_yolo/experiment3\u001b[0m\n",
      "Starting training for 30 epochs...\n",
      "\n",
      "      Epoch    GPU_mem   box_loss   cls_loss   dfl_loss  Instances       Size\n"
     ]
    },
    {
     "name": "stderr",
     "output_type": "stream",
     "text": [
      "       1/30      2.49G      1.415      2.874       1.82         52        640: 100%|██████████| 2080/2080 [01:49<00:00, 18.98it/s]\n",
      "                 Class     Images  Instances      Box(P          R      mAP50  mAP50-95): 100%|██████████| 223/223 [00:09<00:00, 23.28it/s]\n"
     ]
    },
    {
     "name": "stdout",
     "output_type": "stream",
     "text": [
      "                   all       7129       9877      0.356      0.155      0.171      0.112\n",
      "\n",
      "      Epoch    GPU_mem   box_loss   cls_loss   dfl_loss  Instances       Size\n"
     ]
    },
    {
     "name": "stderr",
     "output_type": "stream",
     "text": [
      "       2/30      2.56G      1.305      2.559       1.72         35        640: 100%|██████████| 2080/2080 [01:25<00:00, 24.24it/s]\n",
      "                 Class     Images  Instances      Box(P          R      mAP50  mAP50-95): 100%|██████████| 223/223 [00:09<00:00, 22.64it/s]\n"
     ]
    },
    {
     "name": "stdout",
     "output_type": "stream",
     "text": [
      "                   all       7129       9877      0.332      0.291      0.274      0.183\n",
      "\n",
      "      Epoch    GPU_mem   box_loss   cls_loss   dfl_loss  Instances       Size\n"
     ]
    },
    {
     "name": "stderr",
     "output_type": "stream",
     "text": [
      "       3/30      2.58G      1.244      2.388      1.669         41        640: 100%|██████████| 2080/2080 [01:22<00:00, 25.13it/s]\n",
      "                 Class     Images  Instances      Box(P          R      mAP50  mAP50-95): 100%|██████████| 223/223 [00:09<00:00, 22.96it/s]\n"
     ]
    },
    {
     "name": "stdout",
     "output_type": "stream",
     "text": [
      "                   all       7129       9877      0.408      0.397      0.381      0.265\n",
      "\n",
      "      Epoch    GPU_mem   box_loss   cls_loss   dfl_loss  Instances       Size\n"
     ]
    },
    {
     "name": "stderr",
     "output_type": "stream",
     "text": [
      "       4/30      2.56G      1.192      2.233      1.621         46        640: 100%|██████████| 2080/2080 [01:21<00:00, 25.42it/s]\n",
      "                 Class     Images  Instances      Box(P          R      mAP50  mAP50-95): 100%|██████████| 223/223 [00:09<00:00, 23.35it/s]\n"
     ]
    },
    {
     "name": "stdout",
     "output_type": "stream",
     "text": [
      "                   all       7129       9877      0.605      0.512      0.545      0.382\n",
      "\n",
      "      Epoch    GPU_mem   box_loss   cls_loss   dfl_loss  Instances       Size\n"
     ]
    },
    {
     "name": "stderr",
     "output_type": "stream",
     "text": [
      "       5/30      2.53G      1.157      2.112      1.591         21        640: 100%|██████████| 2080/2080 [01:21<00:00, 25.44it/s]\n",
      "                 Class     Images  Instances      Box(P          R      mAP50  mAP50-95): 100%|██████████| 223/223 [00:09<00:00, 23.38it/s]\n"
     ]
    },
    {
     "name": "stdout",
     "output_type": "stream",
     "text": [
      "                   all       7129       9877      0.604      0.623      0.632      0.458\n",
      "\n",
      "      Epoch    GPU_mem   box_loss   cls_loss   dfl_loss  Instances       Size\n"
     ]
    },
    {
     "name": "stderr",
     "output_type": "stream",
     "text": [
      "       6/30      2.55G      1.127      2.001       1.56         35        640: 100%|██████████| 2080/2080 [01:21<00:00, 25.42it/s]\n",
      "                 Class     Images  Instances      Box(P          R      mAP50  mAP50-95): 100%|██████████| 223/223 [00:09<00:00, 23.79it/s]\n"
     ]
    },
    {
     "name": "stdout",
     "output_type": "stream",
     "text": [
      "                   all       7129       9877      0.702      0.636      0.687      0.501\n",
      "\n",
      "      Epoch    GPU_mem   box_loss   cls_loss   dfl_loss  Instances       Size\n"
     ]
    },
    {
     "name": "stderr",
     "output_type": "stream",
     "text": [
      "       7/30      2.52G      1.102      1.922      1.538         34        640: 100%|██████████| 2080/2080 [01:21<00:00, 25.38it/s]\n",
      "                 Class     Images  Instances      Box(P          R      mAP50  mAP50-95): 100%|██████████| 223/223 [00:09<00:00, 23.92it/s]\n"
     ]
    },
    {
     "name": "stdout",
     "output_type": "stream",
     "text": [
      "                   all       7129       9877      0.736       0.68      0.735      0.544\n",
      "\n",
      "      Epoch    GPU_mem   box_loss   cls_loss   dfl_loss  Instances       Size\n"
     ]
    },
    {
     "name": "stderr",
     "output_type": "stream",
     "text": [
      "       8/30      2.53G      1.083       1.84      1.518         27        640: 100%|██████████| 2080/2080 [01:22<00:00, 25.36it/s]\n",
      "                 Class     Images  Instances      Box(P          R      mAP50  mAP50-95): 100%|██████████| 223/223 [00:09<00:00, 24.15it/s]\n"
     ]
    },
    {
     "name": "stdout",
     "output_type": "stream",
     "text": [
      "                   all       7129       9877      0.766      0.695      0.763      0.577\n",
      "\n",
      "      Epoch    GPU_mem   box_loss   cls_loss   dfl_loss  Instances       Size\n"
     ]
    },
    {
     "name": "stderr",
     "output_type": "stream",
     "text": [
      "       9/30      2.51G      1.066      1.778      1.502         38        640: 100%|██████████| 2080/2080 [01:21<00:00, 25.51it/s]\n",
      "                 Class     Images  Instances      Box(P          R      mAP50  mAP50-95): 100%|██████████| 223/223 [00:09<00:00, 24.20it/s]\n"
     ]
    },
    {
     "name": "stdout",
     "output_type": "stream",
     "text": [
      "                   all       7129       9877      0.768      0.725      0.784      0.598\n",
      "\n",
      "      Epoch    GPU_mem   box_loss   cls_loss   dfl_loss  Instances       Size\n"
     ]
    },
    {
     "name": "stderr",
     "output_type": "stream",
     "text": [
      "      10/30      2.54G      1.058      1.735      1.492         31        640: 100%|██████████| 2080/2080 [01:21<00:00, 25.44it/s]\n",
      "                 Class     Images  Instances      Box(P          R      mAP50  mAP50-95): 100%|██████████| 223/223 [00:09<00:00, 24.24it/s]\n"
     ]
    },
    {
     "name": "stdout",
     "output_type": "stream",
     "text": [
      "                   all       7129       9877      0.783      0.747      0.808      0.622\n",
      "\n",
      "      Epoch    GPU_mem   box_loss   cls_loss   dfl_loss  Instances       Size\n"
     ]
    },
    {
     "name": "stderr",
     "output_type": "stream",
     "text": [
      "      11/30      2.54G      1.039      1.703      1.481         31        640: 100%|██████████| 2080/2080 [01:21<00:00, 25.51it/s]\n",
      "                 Class     Images  Instances      Box(P          R      mAP50  mAP50-95): 100%|██████████| 223/223 [00:09<00:00, 24.25it/s]\n"
     ]
    },
    {
     "name": "stdout",
     "output_type": "stream",
     "text": [
      "                   all       7129       9877       0.82      0.762      0.828      0.641\n",
      "\n",
      "      Epoch    GPU_mem   box_loss   cls_loss   dfl_loss  Instances       Size\n"
     ]
    },
    {
     "name": "stderr",
     "output_type": "stream",
     "text": [
      "      12/30      2.54G       1.03      1.655      1.468         29        640: 100%|██████████| 2080/2080 [01:21<00:00, 25.56it/s]\n",
      "                 Class     Images  Instances      Box(P          R      mAP50  mAP50-95): 100%|██████████| 223/223 [00:09<00:00, 24.26it/s]\n"
     ]
    },
    {
     "name": "stdout",
     "output_type": "stream",
     "text": [
      "                   all       7129       9877       0.84       0.78      0.852      0.661\n",
      "\n",
      "      Epoch    GPU_mem   box_loss   cls_loss   dfl_loss  Instances       Size\n"
     ]
    },
    {
     "name": "stderr",
     "output_type": "stream",
     "text": [
      "      13/30      2.53G      1.021      1.616      1.457         39        640: 100%|██████████| 2080/2080 [01:21<00:00, 25.39it/s]\n",
      "                 Class     Images  Instances      Box(P          R      mAP50  mAP50-95): 100%|██████████| 223/223 [00:09<00:00, 24.30it/s]\n"
     ]
    },
    {
     "name": "stdout",
     "output_type": "stream",
     "text": [
      "                   all       7129       9877      0.855      0.782       0.86      0.674\n",
      "\n",
      "      Epoch    GPU_mem   box_loss   cls_loss   dfl_loss  Instances       Size\n"
     ]
    },
    {
     "name": "stderr",
     "output_type": "stream",
     "text": [
      "      14/30      2.53G      1.004      1.573      1.441         31        640: 100%|██████████| 2080/2080 [01:21<00:00, 25.40it/s]\n",
      "                 Class     Images  Instances      Box(P          R      mAP50  mAP50-95): 100%|██████████| 223/223 [00:09<00:00, 24.32it/s]\n"
     ]
    },
    {
     "name": "stdout",
     "output_type": "stream",
     "text": [
      "                   all       7129       9877      0.857      0.806      0.874      0.689\n",
      "\n",
      "      Epoch    GPU_mem   box_loss   cls_loss   dfl_loss  Instances       Size\n"
     ]
    },
    {
     "name": "stderr",
     "output_type": "stream",
     "text": [
      "      15/30      2.53G        inf      1.541      1.432         33        640: 100%|██████████| 2080/2080 [01:21<00:00, 25.47it/s]\n",
      "                 Class     Images  Instances      Box(P          R      mAP50  mAP50-95): 100%|██████████| 223/223 [00:09<00:00, 24.41it/s]\n"
     ]
    },
    {
     "name": "stdout",
     "output_type": "stream",
     "text": [
      "                   all       7129       9877       0.88      0.813      0.888      0.709\n",
      "\n",
      "      Epoch    GPU_mem   box_loss   cls_loss   dfl_loss  Instances       Size\n"
     ]
    },
    {
     "name": "stderr",
     "output_type": "stream",
     "text": [
      "      16/30      2.53G     0.9804      1.498      1.418         33        640: 100%|██████████| 2080/2080 [01:22<00:00, 25.34it/s]\n",
      "                 Class     Images  Instances      Box(P          R      mAP50  mAP50-95): 100%|██████████| 223/223 [00:09<00:00, 24.15it/s]"
     ]
    },
    {
     "name": "stdout",
     "output_type": "stream",
     "text": [
      "                   all       7129       9877      0.893      0.821      0.896      0.719\n"
     ]
    },
    {
     "name": "stderr",
     "output_type": "stream",
     "text": [
      "\n"
     ]
    },
    {
     "name": "stdout",
     "output_type": "stream",
     "text": [
      "\n",
      "      Epoch    GPU_mem   box_loss   cls_loss   dfl_loss  Instances       Size\n"
     ]
    },
    {
     "name": "stderr",
     "output_type": "stream",
     "text": [
      "      17/30      2.52G     0.9747      1.474      1.415         29        640: 100%|██████████| 2080/2080 [01:22<00:00, 25.30it/s]\n",
      "                 Class     Images  Instances      Box(P          R      mAP50  mAP50-95): 100%|██████████| 223/223 [00:09<00:00, 24.71it/s]\n"
     ]
    },
    {
     "name": "stdout",
     "output_type": "stream",
     "text": [
      "                   all       7129       9877      0.892      0.839      0.907      0.733\n",
      "\n",
      "      Epoch    GPU_mem   box_loss   cls_loss   dfl_loss  Instances       Size\n"
     ]
    },
    {
     "name": "stderr",
     "output_type": "stream",
     "text": [
      "      18/30      2.53G     0.9649      1.447      1.406         50        640: 100%|██████████| 2080/2080 [01:21<00:00, 25.41it/s]\n",
      "                 Class     Images  Instances      Box(P          R      mAP50  mAP50-95): 100%|██████████| 223/223 [00:09<00:00, 24.74it/s]\n"
     ]
    },
    {
     "name": "stdout",
     "output_type": "stream",
     "text": [
      "                   all       7129       9877      0.895      0.842      0.912       0.74\n",
      "\n",
      "      Epoch    GPU_mem   box_loss   cls_loss   dfl_loss  Instances       Size\n"
     ]
    },
    {
     "name": "stderr",
     "output_type": "stream",
     "text": [
      "      19/30      2.56G     0.9517      1.421      1.391         39        640: 100%|██████████| 2080/2080 [01:21<00:00, 25.44it/s]\n",
      "                 Class     Images  Instances      Box(P          R      mAP50  mAP50-95): 100%|██████████| 223/223 [00:09<00:00, 24.61it/s]\n"
     ]
    },
    {
     "name": "stdout",
     "output_type": "stream",
     "text": [
      "                   all       7129       9877      0.902      0.846      0.918      0.746\n",
      "\n",
      "      Epoch    GPU_mem   box_loss   cls_loss   dfl_loss  Instances       Size\n"
     ]
    },
    {
     "name": "stderr",
     "output_type": "stream",
     "text": [
      "      20/30      2.53G     0.9417      1.385      1.382         31        640: 100%|██████████| 2080/2080 [01:22<00:00, 25.33it/s]\n",
      "                 Class     Images  Instances      Box(P          R      mAP50  mAP50-95): 100%|██████████| 223/223 [00:09<00:00, 24.51it/s]\n"
     ]
    },
    {
     "name": "stdout",
     "output_type": "stream",
     "text": [
      "                   all       7129       9877      0.906      0.861      0.926      0.759\n",
      "Closing dataloader mosaic\n",
      "\n",
      "      Epoch    GPU_mem   box_loss   cls_loss   dfl_loss  Instances       Size\n"
     ]
    },
    {
     "name": "stderr",
     "output_type": "stream",
     "text": [
      "      21/30      2.61G     0.8213     0.8303      1.321          9        640: 100%|██████████| 2080/2080 [01:19<00:00, 26.26it/s]\n",
      "                 Class     Images  Instances      Box(P          R      mAP50  mAP50-95): 100%|██████████| 223/223 [00:09<00:00, 24.56it/s]\n"
     ]
    },
    {
     "name": "stdout",
     "output_type": "stream",
     "text": [
      "                   all       7129       9877      0.914      0.876      0.935      0.781\n",
      "\n",
      "      Epoch    GPU_mem   box_loss   cls_loss   dfl_loss  Instances       Size\n"
     ]
    },
    {
     "name": "stderr",
     "output_type": "stream",
     "text": [
      "      22/30      2.51G     0.7729     0.7181      1.278         12        640: 100%|██████████| 2080/2080 [01:18<00:00, 26.35it/s]\n",
      "                 Class     Images  Instances      Box(P          R      mAP50  mAP50-95): 100%|██████████| 223/223 [00:09<00:00, 24.37it/s]\n"
     ]
    },
    {
     "name": "stdout",
     "output_type": "stream",
     "text": [
      "                   all       7129       9877      0.923       0.89      0.946        0.8\n",
      "\n",
      "      Epoch    GPU_mem   box_loss   cls_loss   dfl_loss  Instances       Size\n"
     ]
    },
    {
     "name": "stderr",
     "output_type": "stream",
     "text": [
      "      23/30      2.51G     0.7367     0.6576      1.245         19        640: 100%|██████████| 2080/2080 [01:19<00:00, 26.32it/s]\n",
      "                 Class     Images  Instances      Box(P          R      mAP50  mAP50-95): 100%|██████████| 223/223 [00:09<00:00, 24.26it/s]\n"
     ]
    },
    {
     "name": "stdout",
     "output_type": "stream",
     "text": [
      "                   all       7129       9877      0.931        0.9      0.953      0.814\n",
      "\n",
      "      Epoch    GPU_mem   box_loss   cls_loss   dfl_loss  Instances       Size\n"
     ]
    },
    {
     "name": "stderr",
     "output_type": "stream",
     "text": [
      "      24/30      2.51G     0.7163     0.6151      1.229         10        640: 100%|██████████| 2080/2080 [01:18<00:00, 26.43it/s]\n",
      "                 Class     Images  Instances      Box(P          R      mAP50  mAP50-95): 100%|██████████| 223/223 [00:09<00:00, 24.43it/s]"
     ]
    },
    {
     "name": "stdout",
     "output_type": "stream",
     "text": [
      "                   all       7129       9877      0.938      0.911      0.959      0.826\n"
     ]
    },
    {
     "name": "stderr",
     "output_type": "stream",
     "text": [
      "\n"
     ]
    },
    {
     "name": "stdout",
     "output_type": "stream",
     "text": [
      "\n",
      "      Epoch    GPU_mem   box_loss   cls_loss   dfl_loss  Instances       Size\n"
     ]
    },
    {
     "name": "stderr",
     "output_type": "stream",
     "text": [
      "      25/30      2.51G     0.6919     0.5765      1.204         15        640: 100%|██████████| 2080/2080 [01:19<00:00, 26.27it/s]\n",
      "                 Class     Images  Instances      Box(P          R      mAP50  mAP50-95): 100%|██████████| 223/223 [00:10<00:00, 20.96it/s]\n"
     ]
    },
    {
     "name": "stdout",
     "output_type": "stream",
     "text": [
      "                   all       7129       9877      0.945      0.919      0.964      0.838\n",
      "\n",
      "      Epoch    GPU_mem   box_loss   cls_loss   dfl_loss  Instances       Size\n"
     ]
    },
    {
     "name": "stderr",
     "output_type": "stream",
     "text": [
      "      26/30      2.51G     0.6723     0.5416       1.19         11        640: 100%|██████████| 2080/2080 [01:29<00:00, 23.34it/s]\n",
      "                 Class     Images  Instances      Box(P          R      mAP50  mAP50-95): 100%|██████████| 223/223 [00:11<00:00, 19.92it/s]"
     ]
    },
    {
     "name": "stdout",
     "output_type": "stream",
     "text": [
      "                   all       7129       9877      0.949      0.924      0.967      0.848\n"
     ]
    },
    {
     "name": "stderr",
     "output_type": "stream",
     "text": [
      "\n"
     ]
    },
    {
     "name": "stdout",
     "output_type": "stream",
     "text": [
      "\n",
      "      Epoch    GPU_mem   box_loss   cls_loss   dfl_loss  Instances       Size\n"
     ]
    },
    {
     "name": "stderr",
     "output_type": "stream",
     "text": [
      "      27/30      2.51G     0.6479      0.512      1.168         14        640: 100%|██████████| 2080/2080 [01:25<00:00, 24.40it/s]\n",
      "                 Class     Images  Instances      Box(P          R      mAP50  mAP50-95): 100%|██████████| 223/223 [00:09<00:00, 24.65it/s]\n"
     ]
    },
    {
     "name": "stdout",
     "output_type": "stream",
     "text": [
      "                   all       7129       9877      0.957      0.925       0.97      0.856\n",
      "\n",
      "      Epoch    GPU_mem   box_loss   cls_loss   dfl_loss  Instances       Size\n"
     ]
    },
    {
     "name": "stderr",
     "output_type": "stream",
     "text": [
      "      28/30      2.51G     0.6308     0.4879      1.153         13        640: 100%|██████████| 2080/2080 [01:18<00:00, 26.43it/s]\n",
      "                 Class     Images  Instances      Box(P          R      mAP50  mAP50-95): 100%|██████████| 223/223 [00:09<00:00, 24.67it/s]\n"
     ]
    },
    {
     "name": "stdout",
     "output_type": "stream",
     "text": [
      "                   all       7129       9877      0.961      0.928      0.972      0.862\n",
      "\n",
      "      Epoch    GPU_mem   box_loss   cls_loss   dfl_loss  Instances       Size\n"
     ]
    },
    {
     "name": "stderr",
     "output_type": "stream",
     "text": [
      "      29/30      2.51G     0.6088     0.4617      1.138         16        640: 100%|██████████| 2080/2080 [01:18<00:00, 26.40it/s]\n",
      "                 Class     Images  Instances      Box(P          R      mAP50  mAP50-95): 100%|██████████| 223/223 [00:09<00:00, 24.63it/s]\n"
     ]
    },
    {
     "name": "stdout",
     "output_type": "stream",
     "text": [
      "                   all       7129       9877      0.965       0.93      0.974      0.869\n",
      "\n",
      "      Epoch    GPU_mem   box_loss   cls_loss   dfl_loss  Instances       Size\n"
     ]
    },
    {
     "name": "stderr",
     "output_type": "stream",
     "text": [
      "      30/30      2.51G     0.5932     0.4415      1.123         13        640: 100%|██████████| 2080/2080 [01:18<00:00, 26.35it/s]\n",
      "                 Class     Images  Instances      Box(P          R      mAP50  mAP50-95): 100%|██████████| 223/223 [00:09<00:00, 24.64it/s]\n"
     ]
    },
    {
     "name": "stdout",
     "output_type": "stream",
     "text": [
      "                   all       7129       9877      0.965       0.93      0.976      0.874\n",
      "\n",
      "30 epochs completed in 0.769 hours.\n",
      "Optimizer stripped from road_defect_yolo/experiment3/weights/last.pt, 5.5MB\n",
      "Optimizer stripped from road_defect_yolo/experiment3/weights/best.pt, 5.5MB\n",
      "\n",
      "Validating road_defect_yolo/experiment3/weights/best.pt...\n",
      "Ultralytics 8.3.73 🚀 Python-3.9.7 torch-2.6.0+cu124 CUDA:0 (NVIDIA GeForce RTX 4090, 24083MiB)\n",
      "YOLO11n summary (fused): 238 layers, 2,583,322 parameters, 0 gradients, 6.3 GFLOPs\n"
     ]
    },
    {
     "name": "stderr",
     "output_type": "stream",
     "text": [
      "                 Class     Images  Instances      Box(P          R      mAP50  mAP50-95): 100%|██████████| 223/223 [00:09<00:00, 23.14it/s]\n"
     ]
    },
    {
     "name": "stdout",
     "output_type": "stream",
     "text": [
      "                   all       7129       9877      0.966       0.93      0.976      0.874\n",
      "                Cracks       1296       1624      0.906      0.809      0.931      0.708\n",
      "         Edge_Settling       1283       1365      0.998      0.933      0.991      0.959\n",
      "               No_Road       1232       1232      0.994      0.998      0.995      0.995\n",
      "              Potholes       1409       1800      0.975      0.976      0.992      0.876\n",
      "              Raveling       1952       2502      0.938      0.864      0.951      0.747\n",
      "               Rutting       1315       1354      0.985          1      0.994      0.957\n",
      "Speed: 0.1ms preprocess, 0.3ms inference, 0.0ms loss, 0.2ms postprocess per image\n",
      "Results saved to \u001b[1mroad_defect_yolo/experiment3\u001b[0m\n"
     ]
    }
   ],
   "source": [
    "# Define YOLO training parameters\n",
    "hyperparameters = {\n",
    "    \"lr0\": 0.001,  # Initial learning rate\n",
    "    \"lrf\": 0.2,  # Final learning rate fraction\n",
    "    \"momentum\": 0.937,  # Momentum\n",
    "    \"weight_decay\": 0.0005,  # L2 Regularization\n",
    "    \"warmup_epochs\": 3.0,  # Warm-up period\n",
    "    \"warmup_momentum\": 0.8,  # Warm-up momentum\n",
    "    \"warmup_bias_lr\": 0.1,  # Warm-up bias learning rate\n",
    "    \"box\": 0.05,  # Box loss gain\n",
    "    \"cls\": 0.5,  # Class loss gain\n",
    "    \"cls_pw\": 1.0,  # Class label smoothing\n",
    "    \"iou_t\": 0.2,  # IoU threshold for training\n",
    "    \"anchor_t\": 4.0,  # Anchor threshold\n",
    "    \"fl_gamma\": 0.0,  # Focal loss gamma\n",
    "    \"hsv_h\": 0.015,  # Hue augmentation\n",
    "    \"hsv_s\": 0.7,  # Saturation augmentation\n",
    "    \"hsv_v\": 0.4,  # Value augmentation\n",
    "    \"degrees\": 0.0,  # Rotation augmentation\n",
    "    \"translate\": 0.1,  # Translation augmentation\n",
    "    \"scale\": 0.5,  # Scale augmentation\n",
    "    \"shear\": 0.0,  # Shear augmentation\n",
    "    \"perspective\": 0.0,  # Perspective augmentation\n",
    "    \"flipud\": 0.0,  # Vertical flip probability\n",
    "    \"fliplr\": 0.5,  # Horizontal flip probability\n",
    "    \"mosaic\": 1.0,  # Mosaic augmentation\n",
    "    \"mixup\": 0.2,  # Mixup augmentation\n",
    "}\n",
    "\n",
    "# Paths\n",
    "working_dir = os.getcwd()\n",
    "data_yaml_path = os.path.join(working_dir, 'Dataset/data.yaml')\n",
    "\n",
    "# Load YOLO model\n",
    "model = YOLO('yolo11n.pt')\n",
    "\n",
    "# Train with updated hyperparameters and Adam optimizer\n",
    "results = model.train(\n",
    "    data=data_yaml_path,\n",
    "    epochs=30,  # More epochs for better generalization\n",
    "    imgsz=640,\n",
    "    project='road_defect_yolo',\n",
    "    name='experiment3',\n",
    "    exist_ok=True,\n",
    "    optimizer='Adam',  # Use Adam optimizer\n",
    "    lr0=hyperparameters[\"lr0\"],\n",
    "    lrf=hyperparameters[\"lrf\"],\n",
    "    momentum=hyperparameters[\"momentum\"],\n",
    "    weight_decay=hyperparameters[\"weight_decay\"],\n",
    "    warmup_epochs=hyperparameters[\"warmup_epochs\"],\n",
    "    warmup_momentum=hyperparameters[\"warmup_momentum\"],\n",
    "    warmup_bias_lr=hyperparameters[\"warmup_bias_lr\"],\n",
    "    hsv_h=hyperparameters[\"hsv_h\"],\n",
    "    hsv_s=hyperparameters[\"hsv_s\"],\n",
    "    hsv_v=hyperparameters[\"hsv_v\"],\n",
    "    degrees=hyperparameters[\"degrees\"],\n",
    "    translate=hyperparameters[\"translate\"],\n",
    "    scale=hyperparameters[\"scale\"],\n",
    "    shear=hyperparameters[\"shear\"],\n",
    "    perspective=hyperparameters[\"perspective\"],\n",
    "    flipud=hyperparameters[\"flipud\"],\n",
    "    fliplr=hyperparameters[\"fliplr\"],\n",
    "    mosaic=hyperparameters[\"mosaic\"],\n",
    "    mixup=hyperparameters[\"mixup\"],\n",
    ")\n"
   ]
  },
  {
   "cell_type": "code",
   "execution_count": 3,
   "metadata": {},
   "outputs": [
    {
     "name": "stdout",
     "output_type": "stream",
     "text": [
      "Ultralytics 8.3.73 🚀 Python-3.9.7 torch-2.6.0+cu124 CUDA:0 (NVIDIA GeForce RTX 4090, 24083MiB)\n",
      "YOLO11n summary (fused): 238 layers, 2,583,322 parameters, 0 gradients, 6.3 GFLOPs\n"
     ]
    },
    {
     "name": "stderr",
     "output_type": "stream",
     "text": [
      "\u001b[34m\u001b[1mval: \u001b[0mScanning /home/mt23mcs002/Downloads/Augmented_Images_Python/Dataset/valid/labels.cache... 7129 images, 0 backgrounds, 0 corrupt: 100%|██████████| 7129/7129 [00:00<?, ?it/s]\n",
      "                 Class     Images  Instances      Box(P          R      mAP50  mAP50-95): 100%|██████████| 446/446 [00:11<00:00, 40.22it/s]\n"
     ]
    },
    {
     "name": "stdout",
     "output_type": "stream",
     "text": [
      "                   all       7129       9877      0.965       0.93      0.976      0.874\n",
      "                Cracks       1296       1624      0.904       0.81      0.932      0.708\n",
      "         Edge_Settling       1283       1365      0.998      0.933      0.991      0.959\n",
      "               No_Road       1232       1232      0.994      0.998      0.995      0.995\n",
      "              Potholes       1409       1800      0.974      0.976      0.992      0.875\n",
      "              Raveling       1952       2502      0.936      0.864      0.951      0.747\n",
      "               Rutting       1315       1354      0.985          1      0.994      0.957\n",
      "Speed: 0.1ms preprocess, 0.5ms inference, 0.0ms loss, 0.2ms postprocess per image\n",
      "Results saved to \u001b[1mroad_defect_yolo/experiment3\u001b[0m\n"
     ]
    }
   ],
   "source": [
    "metrics = model.val(data=data_yaml_path)\n",
    "logging.info(f\"Validation metrics: {metrics}\")"
   ]
  }
 ],
 "metadata": {
  "kernelspec": {
   "display_name": ".venv",
   "language": "python",
   "name": "python3"
  },
  "language_info": {
   "codemirror_mode": {
    "name": "ipython",
    "version": 3
   },
   "file_extension": ".py",
   "mimetype": "text/x-python",
   "name": "python",
   "nbconvert_exporter": "python",
   "pygments_lexer": "ipython3",
   "version": "3.9.7"
  }
 },
 "nbformat": 4,
 "nbformat_minor": 2
}
