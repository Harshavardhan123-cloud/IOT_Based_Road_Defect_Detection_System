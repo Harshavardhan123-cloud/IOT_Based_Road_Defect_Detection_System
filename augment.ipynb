{
 "cells": [
  {
   "cell_type": "code",
   "execution_count": 1,
   "metadata": {},
   "outputs": [],
   "source": [
    "import os\n",
    "import cv2\n",
    "import math\n",
    "import random\n",
    "import numpy as np\n",
    "import shutil\n",
    "import matplotlib.pyplot as plt\n",
    "from collections import defaultdict"
   ]
  },
  {
   "cell_type": "code",
   "execution_count": 2,
   "metadata": {},
   "outputs": [],
   "source": [
    "main_dir = \"Fin_Dataset/train\"\n",
    "images_dir = os.path.join(main_dir, \"images\")\n",
    "labels_dir = os.path.join(main_dir, \"labels\")\n",
    "\n",
    "augmented_images_dir = os.path.join(main_dir, \"aug_images\")\n",
    "augmented_labels_dir = os.path.join(main_dir, \"aug_labels\")\n",
    "os.makedirs(augmented_images_dir, exist_ok=True)\n",
    "os.makedirs(augmented_labels_dir, exist_ok=True)"
   ]
  },
  {
   "cell_type": "markdown",
   "metadata": {},
   "source": [
    "### Remove NULL images and labels"
   ]
  },
  {
   "cell_type": "code",
   "execution_count": 3,
   "metadata": {},
   "outputs": [
    {
     "name": "stdout",
     "output_type": "stream",
     "text": [
      "Empty labels and their corresponding images have been removed.\n"
     ]
    }
   ],
   "source": [
    "for label_file in os.listdir(labels_dir):\n",
    "    label_path = os.path.join(labels_dir, label_file)\n",
    "    \n",
    "    # Check if the label file is empty\n",
    "    if os.path.isfile(label_path):\n",
    "        with open(label_path, 'r') as f:\n",
    "            lines = f.readlines()\n",
    "        if not lines:\n",
    "            os.remove(label_path)\n",
    "            image_file = os.path.splitext(label_file)[0] + \".jpg\"  # Change extension if needed\n",
    "            image_path = os.path.join(images_dir, image_file)\n",
    "            if os.path.exists(image_path):\n",
    "                os.remove(image_path)\n",
    "                    \n",
    "print(\"Empty labels and their corresponding images have been removed.\")"
   ]
  },
  {
   "cell_type": "markdown",
   "metadata": {},
   "source": [
    "### Count the number of instances of each class"
   ]
  },
  {
   "cell_type": "code",
   "execution_count": 4,
   "metadata": {},
   "outputs": [],
   "source": [
    "class_names = ['Cracks', 'Edge_Settling', 'No_Road', 'Potholes', 'Raveling', 'Rutting']\n",
    "num_classes = len(class_names)"
   ]
  },
  {
   "cell_type": "code",
   "execution_count": 5,
   "metadata": {},
   "outputs": [],
   "source": [
    "def count_instances_per_class(folder):\n",
    "    \"\"\"\n",
    "    Count how many *instances* (i.e., bounding boxes) of each class exist\n",
    "    in the YOLO annotation files inside `folder`.\n",
    "    Returns a dictionary {class_id: count}.\n",
    "    \"\"\"\n",
    "    counts = np.zeros(num_classes, dtype=int)\n",
    "    for fname in os.listdir(folder):\n",
    "        if fname.endswith('.txt'):\n",
    "            with open(os.path.join(folder, fname), 'r') as f:\n",
    "                lines = f.readlines()\n",
    "            for line in lines:\n",
    "                parts = line.strip().split()\n",
    "                if len(parts) >= 5:\n",
    "                    cls = int(parts[0])\n",
    "                    if 0 <= cls < num_classes:\n",
    "                        counts[cls] += 1\n",
    "    return {i: counts[i] for i in range(num_classes)}"
   ]
  },
  {
   "cell_type": "markdown",
   "metadata": {},
   "source": [
    "### Performing Augmentation"
   ]
  },
  {
   "cell_type": "code",
   "execution_count": 6,
   "metadata": {},
   "outputs": [],
   "source": [
    "def augment_image_and_labels(image, label_lines):\n",
    "    \"\"\"\n",
    "    Applies both geometric and photometric augmentations to the image,\n",
    "    and updates the YOLO-format labels accordingly.\n",
    "    Returns the augmented image and updated label lines.\n",
    "    \"\"\"\n",
    "    h, w = image.shape[:2]\n",
    "    # Parse labels: YOLO format: class, cx, cy, bw, bh (normalized)\n",
    "    bboxes = []\n",
    "    for line in label_lines:\n",
    "        parts = line.strip().split()\n",
    "        cls = int(parts[0])\n",
    "        cx, cy, bw, bh = map(float, parts[1:5])\n",
    "        xmin = (cx - bw/2) * w\n",
    "        ymin = (cy - bh/2) * h\n",
    "        xmax = (cx + bw/2) * w\n",
    "        ymax = (cy + bh/2) * h\n",
    "        bboxes.append([cls, xmin, ymin, xmax, ymax])\n",
    "    \n",
    "    # Start with identity transformation (3x3)\n",
    "    M_total = np.eye(3)\n",
    "    \n",
    "    # --- Geometric Transformations ---\n",
    "    # Rotation\n",
    "    if random.random() < 0.5:\n",
    "        angle = random.uniform(-15, 15)\n",
    "        M = cv2.getRotationMatrix2D((w/2, h/2), angle, 1.0)  # 2x3 matrix\n",
    "        M_rot = np.vstack([M, [0, 0, 1]])  # Convert to 3x3\n",
    "        M_total = M_rot @ M_total\n",
    "        image = cv2.warpAffine(image, M, (w, h))\n",
    "    \n",
    "    # Shift & Scale\n",
    "    if random.random() < 0.5:\n",
    "        scale = random.uniform(0.9, 1.1)\n",
    "        tx = random.randint(-20, 20)\n",
    "        ty = random.randint(-20, 20)\n",
    "        M_shift_scale = np.array([[scale, 0, tx],\n",
    "                                  [0, scale, ty],\n",
    "                                  [0,   0,   1]])\n",
    "        M_total = M_shift_scale @ M_total\n",
    "        image = cv2.warpAffine(image, M_shift_scale[:2, :], (w, h))\n",
    "    \n",
    "    # Horizontal Flip\n",
    "    if random.random() < 0.5:\n",
    "        image = cv2.flip(image, 1)\n",
    "        M_flip = np.array([[-1, 0, w],\n",
    "                           [0, 1, 0],\n",
    "                           [0, 0, 1]])\n",
    "        M_total = M_flip @ M_total\n",
    "\n",
    "    # Update bounding boxes using composite transform\n",
    "    new_label_lines = []\n",
    "    for bbox in bboxes:\n",
    "        cls, xmin, ymin, xmax, ymax = bbox\n",
    "        pts = np.array([[xmin, ymin],\n",
    "                        [xmax, ymin],\n",
    "                        [xmax, ymax],\n",
    "                        [xmin, ymax]], dtype=np.float32)\n",
    "        ones = np.ones((pts.shape[0], 1), dtype=np.float32)\n",
    "        pts_hom = np.hstack([pts, ones]).T  # shape (3,4)\n",
    "        pts_trans = (M_total @ pts_hom).T  # shape (4,3)\n",
    "        pts_trans = pts_trans[:, :2]  # take only (x,y)\n",
    "        \n",
    "        x_min_new = max(0, min(w, np.min(pts_trans[:,0])))\n",
    "        y_min_new = max(0, min(h, np.min(pts_trans[:,1])))\n",
    "        x_max_new = max(0, min(w, np.max(pts_trans[:,0])))\n",
    "        y_max_new = max(0, min(h, np.max(pts_trans[:,1])))\n",
    "        \n",
    "        new_cx = (x_min_new + x_max_new) / 2.0 / w\n",
    "        new_cy = (y_min_new + y_max_new) / 2.0 / h\n",
    "        new_bw = (x_max_new - x_min_new) / w\n",
    "        new_bh = (y_max_new - y_min_new) / h\n",
    "        \n",
    "        new_line = f\"{cls} {new_cx:.6f} {new_cy:.6f} {new_bw:.6f} {new_bh:.6f}\\n\"\n",
    "        new_label_lines.append(new_line)\n",
    "        \n",
    "    # --- Photometric Transformations ---\n",
    "    # Brightness/Contrast\n",
    "    if random.random() < 0.5:\n",
    "        alpha = random.uniform(0.8, 1.2)\n",
    "        beta = random.randint(-30, 30)\n",
    "        image = cv2.convertScaleAbs(image, alpha=alpha, beta=beta)\n",
    "    \n",
    "    # Hue & Saturation adjustment (with overflow protection)\n",
    "    if random.random() < 0.5:\n",
    "        image_hsv = cv2.cvtColor(image, cv2.COLOR_BGR2HSV)\n",
    "        h_delta = random.randint(-10, 10)\n",
    "        s_mult = random.uniform(0.9, 1.1)\n",
    "        image_hsv[:,:,0] = np.clip(image_hsv[:,:,0].astype(np.int16) + h_delta, 0, 179).astype(np.uint8)\n",
    "        image_hsv[:,:,1] = np.clip(image_hsv[:,:,1].astype(np.float32) * s_mult, 0, 255).astype(np.uint8)\n",
    "        image = cv2.cvtColor(image_hsv, cv2.COLOR_HSV2BGR)\n",
    "    \n",
    "    # Gaussian Blur\n",
    "    if random.random() < 0.3:\n",
    "        ksize = random.choice([3, 5])\n",
    "        image = cv2.GaussianBlur(image, (ksize, ksize), 0)\n",
    "    \n",
    "    # Sharpness Enhancement\n",
    "    if random.random() < 0.3:\n",
    "        kernel_sharp = np.array([[0, -1, 0],\n",
    "                                 [-1, 5, -1],\n",
    "                                 [0, -1, 0]])\n",
    "        image = cv2.filter2D(image, -1, kernel_sharp)\n",
    "    \n",
    "    # Gamma Correction\n",
    "    if random.random() < 0.3:\n",
    "        gamma = random.uniform(0.8, 1.2)\n",
    "        invGamma = 1.0 / gamma\n",
    "        table = np.array([((i / 255.0) ** invGamma) * 255 for i in range(256)]).astype(\"uint8\")\n",
    "        image = cv2.LUT(image, table)\n",
    "    \n",
    "    # CLAHE (on LAB L-channel)\n",
    "    if random.random() < 0.3:\n",
    "        lab = cv2.cvtColor(image, cv2.COLOR_BGR2LAB)\n",
    "        l, a, b = cv2.split(lab)\n",
    "        clahe = cv2.createCLAHE(clipLimit=2.0, tileGridSize=(8,8))\n",
    "        l = clahe.apply(l)\n",
    "        lab = cv2.merge((l, a, b))\n",
    "        image = cv2.cvtColor(lab, cv2.COLOR_LAB2BGR)\n",
    "    \n",
    "    return image, new_label_lines"
   ]
  },
  {
   "cell_type": "code",
   "execution_count": 7,
   "metadata": {},
   "outputs": [],
   "source": [
    "original_data = []\n",
    "for label_fname in os.listdir(labels_dir):\n",
    "    if not label_fname.endswith('.txt'):\n",
    "        continue\n",
    "    label_path = os.path.join(labels_dir, label_fname)\n",
    "    image_fname = os.path.splitext(label_fname)[0] + \".jpg\"\n",
    "    image_path = os.path.join(images_dir, image_fname)\n",
    "    if not os.path.isfile(image_path):\n",
    "        continue\n",
    "    with open(label_path, 'r') as f:\n",
    "        lines = f.readlines()\n",
    "    classes_in_image = set()\n",
    "    for line in lines:\n",
    "        parts = line.strip().split()\n",
    "        if len(parts) >= 5:\n",
    "            classes_in_image.add(int(parts[0]))\n",
    "    original_data.append({\n",
    "        'image_path': image_path,\n",
    "        'label_lines': lines,\n",
    "        'classes': classes_in_image\n",
    "    })"
   ]
  },
  {
   "cell_type": "code",
   "execution_count": 8,
   "metadata": {},
   "outputs": [],
   "source": [
    "for data in original_data:\n",
    "    img_fname = os.path.basename(data['image_path'])\n",
    "    label_fname = os.path.splitext(img_fname)[0] + \".txt\"\n",
    "    target_img_path = os.path.join(augmented_images_dir, img_fname)\n",
    "    target_label_path = os.path.join(augmented_labels_dir, label_fname)\n",
    "    if not os.path.exists(target_img_path):\n",
    "        shutil.copy2(data['image_path'], target_img_path)\n",
    "    if not os.path.exists(target_label_path):\n",
    "        with open(target_label_path, 'w') as f:\n",
    "            f.writelines(data['label_lines'])"
   ]
  },
  {
   "cell_type": "code",
   "execution_count": 9,
   "metadata": {},
   "outputs": [
    {
     "name": "stdout",
     "output_type": "stream",
     "text": [
      "Original image counts per class: {0: np.int64(1415), 1: np.int64(63), 2: np.int64(127), 3: np.int64(442), 4: np.int64(3757), 5: np.int64(77)}\n",
      "Target images per class (T): 2333\n",
      "Current image counts per class (in augmented folder): {0: np.int64(1415), 1: np.int64(63), 2: np.int64(127), 3: np.int64(442), 4: np.int64(3757), 5: np.int64(77)}\n",
      "Initial deficits (x_i) per class: {0: np.int64(918), 1: np.int64(2270), 2: np.int64(2206), 3: np.int64(1891), 4: 0, 5: np.int64(2256)}\n"
     ]
    }
   ],
   "source": [
    "original_counts = count_instances_per_class(labels_dir)\n",
    "print(\"Original image counts per class:\", original_counts)\n",
    "\n",
    "total_target_instances = 14000  # or any total desired number of instances\n",
    "target_per_class = total_target_instances // num_classes\n",
    "print(\"Target images per class (T):\", target_per_class)\n",
    "\n",
    "current_counts = count_instances_per_class(augmented_labels_dir)\n",
    "print(\"Current image counts per class (in augmented folder):\", current_counts)\n",
    "\n",
    "deficits = {i: max(0, target_per_class - current_counts[i]) for i in range(num_classes)}\n",
    "print(\"Initial deficits (x_i) per class:\", deficits)"
   ]
  },
  {
   "cell_type": "code",
   "execution_count": 15,
   "metadata": {},
   "outputs": [
    {
     "name": "stdout",
     "output_type": "stream",
     "text": [
      "Final counts after augmentation: {0: np.int64(2333), 1: np.int64(2333), 2: np.int64(2333), 3: np.int64(2333), 4: np.int64(3757), 5: np.int64(2333)}\n",
      "Final deficits: {0: 0, 1: 0, 2: 0, 3: 0, 4: 0, 5: 0}\n"
     ]
    }
   ],
   "source": [
    "aug_index = 0  # for naming augmented files\n",
    "iteration = 0\n",
    "while any(deficits[i] > 0 for i in range(num_classes)):\n",
    "    iteration += 1\n",
    "    progress = False\n",
    "    # Randomize the order of original images for variety.\n",
    "    random.shuffle(original_data)\n",
    "    for data in original_data:\n",
    "        # Check if this image contains at least one underrepresented class.\n",
    "        if any(deficits[cls] > 0 for cls in data['classes']):\n",
    "            # Read the original image (always start from the original)\n",
    "            orig_img = cv2.imread(data['image_path'])\n",
    "            if orig_img is None:\n",
    "                continue\n",
    "            aug_img, aug_label_lines = augment_image_and_labels(orig_img, data['label_lines'])\n",
    "            # Save augmented image and labels\n",
    "            base_name = os.path.splitext(os.path.basename(data['image_path']))[0]\n",
    "            aug_img_fname = f\"{base_name}_aug{aug_index}.jpg\"\n",
    "            aug_label_fname = f\"{base_name}_aug{aug_index}.txt\"\n",
    "            cv2.imwrite(os.path.join(augmented_images_dir, aug_img_fname), aug_img)\n",
    "            with open(os.path.join(augmented_labels_dir, aug_label_fname), \"w\") as f:\n",
    "                f.writelines(aug_label_lines)\n",
    "            aug_index += 1\n",
    "            progress = True\n",
    "            \n",
    "            # For each class present in this augmented image, update counts if deficit > 0.\n",
    "            for cls in data['classes']:\n",
    "                if deficits[cls] > 0:\n",
    "                    current_counts[cls] += 1\n",
    "                    deficits[cls] = max(0, target_per_class - current_counts[cls])\n",
    "            print(f\"Augmented {aug_img_fname} contributed for classes {data['classes']}. Updated deficits: {deficits}\")\n",
    "            \n",
    "            # If all deficits are cleared, break out.\n",
    "            if all(deficits[i] == 0 for i in range(num_classes)):\n",
    "                break\n",
    "    if not progress:\n",
    "        print(\"No progress in this pass; breaking out to avoid infinite loop.\")\n",
    "        break\n",
    "\n",
    "print(\"Final counts after augmentation:\", current_counts)\n",
    "print(\"Final deficits:\", deficits)"
   ]
  },
  {
   "cell_type": "code",
   "execution_count": 16,
   "metadata": {},
   "outputs": [],
   "source": [
    "def count_class_instances_from_dir(labels_dir, num_classes):\n",
    "    class_counts = np.zeros(num_classes, dtype=int)\n",
    "\n",
    "    for label_file in os.listdir(labels_dir):\n",
    "        label_path = os.path.join(labels_dir, label_file)\n",
    "\n",
    "        if os.path.isfile(label_path):\n",
    "            with open(label_path, 'r') as f:\n",
    "                lines = f.readlines()\n",
    "\n",
    "            for line in lines:\n",
    "                class_id = int(line.split()[0])\n",
    "                class_counts[class_id] += 1\n",
    "\n",
    "    return {i: count for i, count in enumerate(class_counts)}\n",
    "\n",
    "def plot_class_distribution_from_dirs(original_labels_dir, augmented_labels_dir, class_names):\n",
    "    num_classes = len(class_names)\n",
    "\n",
    "    # Count instances from original and augmented directories\n",
    "    original_counts = count_class_instances_from_dir(original_labels_dir, num_classes)\n",
    "    augmented_counts = count_class_instances_from_dir(augmented_labels_dir, num_classes)\n",
    "\n",
    "    indices = np.arange(num_classes)\n",
    "    width = 0.35\n",
    "\n",
    "    original_values = [original_counts.get(i, 0) for i in range(num_classes)]\n",
    "    augmented_values = [augmented_counts.get(i, 0) for i in range(num_classes)]\n",
    "\n",
    "    plt.figure(figsize=(12, 6))\n",
    "    bars1 = plt.bar(indices - width/2, original_values, width, label='Original', color='skyblue', edgecolor='black')\n",
    "    bars2 = plt.bar(indices + width/2, augmented_values, width, label='Augmented', color='orange', edgecolor='black')\n",
    "\n",
    "    plt.title(\"Image Instance Distribution per Class\", fontsize=16)\n",
    "    plt.xlabel(\"Class\", fontsize=12)\n",
    "    plt.ylabel(\"Number of Instances\", fontsize=12)\n",
    "    plt.xticks(indices, class_names, rotation=45)\n",
    "    plt.grid(axis='y', linestyle='--', alpha=0.7)\n",
    "    plt.legend()\n",
    "\n",
    "    # Annotate bar heights\n",
    "    for bars in [bars1, bars2]:\n",
    "        for bar in bars:\n",
    "            yval = bar.get_height()\n",
    "            plt.text(bar.get_x() + bar.get_width()/2.0, yval + 1, int(yval),\n",
    "                     ha='center', va='bottom', fontsize=9)\n",
    "\n",
    "    plt.tight_layout()\n",
    "    plt.show()"
   ]
  },
  {
   "cell_type": "code",
   "execution_count": 17,
   "metadata": {},
   "outputs": [
    {
     "data": {
      "image/png": "[encoded data removed]",
      "text/plain": [
       "<Figure size 1200x600 with 1 Axes>"
      ]
     },
     "metadata": {},
     "output_type": "display_data"
    }
   ],
   "source": [
    "plot_class_distribution_from_dirs(labels_dir, augmented_labels_dir, class_names)"
   ]
  },
  {
   "cell_type": "code",
   "execution_count": null,
   "metadata": {},
   "outputs": [],
   "source": []
  }
 ],
 "metadata": {
  "kernelspec": {
   "display_name": ".venv",
   "language": "python",
   "name": "python3"
  },
  "language_info": {
   "codemirror_mode": {
    "name": "ipython",
    "version": 3
   },
   "file_extension": ".py",
   "mimetype": "text/x-python",
   "name": "python",
   "nbconvert_exporter": "python",
   "pygments_lexer": "ipython3",
   "version": "3.9.7"
  }
 },
 "nbformat": 4,
 "nbformat_minor": 2
}
